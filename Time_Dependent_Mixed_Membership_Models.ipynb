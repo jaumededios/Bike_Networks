{
 "cells": [
  {
   "cell_type": "code",
   "execution_count": 1,
   "metadata": {},
   "outputs": [],
   "source": [
    "import numpy as np\n",
    "from matplotlib import pyplot as plt\n",
    "%matplotlib inline\n",
    "import simplejson as json"
   ]
  },
  {
   "cell_type": "markdown",
   "metadata": {},
   "source": [
    "# Introduction"
   ]
  },
  {
   "cell_type": "markdown",
   "metadata": {},
   "source": [
    "In this Notebook we will implement the mixed membership time dependent stochastic role model method, using two-step gradient descent method described in the paper _Name of paper_, we will also show its implementation as in the example of the paper. The notebook does not make any explicit reference to equations on the paper, and therefore can be read independently. The paper, however, sets the context in which the notebook makes sense.\n",
    "\n",
    "## Definition of the model\n",
    "\n",
    "The motivation of the model is to interpret (after a suitable discretisation) the expected number $ \\mu_{s[i],s[j],h[t]}$ of interactions between a station $s[i]$ and a station $s[j]$ over time as the sum of all the possible time-dependent reasons $R^{r[\\alpha],r[\\beta]}_{h[t]}$ a person has to travel, weighed by how rellevant are this reasons in stations $s[i]$ and $s[j]$ (the relevance being denoted $C_{s[i],r[\\alpha]}$). We can express this as:\n",
    "\n",
    "**Definition of the station-pair movement strength as a function of the roles and coefficients**\n",
    "\n",
    "\\begin{equation}\n",
    "    \\mu_{s[i],s[j],h[t]} = \\sum_{r[\\alpha] r[\\beta]} C_{s[i],r[\\alpha]} R^{r[\\alpha],r[\\beta]}_{h[t]}C_{s[j],r[\\beta]}\n",
    "\\end{equation}\n",
    "\n",
    "or, in Python:"
   ]
  },
  {
   "cell_type": "code",
   "execution_count": 2,
   "metadata": {},
   "outputs": [],
   "source": [
    "def mu(c,r):\n",
    "    return np.einsum(\"ia,abt,jb->ijt\",c,r,c)"
   ]
  },
  {
   "cell_type": "markdown",
   "metadata": {},
   "source": [
    "It seems reasonable to assume that the actual number of travelers $ n_{s[i],s[j],h[t]}$ from station $s[i]$ to station $s[j]$ will  will be a Poisson random variable with parameter $ \\mu_{s[i],s[j],h[t]}$, that is:"
   ]
  },
  {
   "cell_type": "markdown",
   "metadata": {},
   "source": [
    "**Log Likelihood of the model** (As a function of the station-pair weights)\n",
    "\\begin{equation}\n",
    "    L = \\sum_{s[i],s[j],h[t]} n_{s[i],s[j],h[t]} \\log \\mu_{s[i],s[j],h[t]} - \\mu_{s[i],s[j],h[t]}\n",
    "\\end{equation}\n",
    "\n",
    "or, in Python:"
   ]
  },
  {
   "cell_type": "code",
   "execution_count": 3,
   "metadata": {},
   "outputs": [],
   "source": [
    "def mu_likelihood(n, mu):\n",
    "    return np.sum(n*np.log(mu)-mu)"
   ]
  },
  {
   "cell_type": "markdown",
   "metadata": {},
   "source": [
    "in practice, most of the time we will actually be computing the likelihood as a function of the parameters $R^{r[\\alpha],r[\\beta]}_{h[t]}$ and $C_{s[i],r[\\alpha]}$, that is:"
   ]
  },
  {
   "cell_type": "code",
   "execution_count": 4,
   "metadata": {},
   "outputs": [],
   "source": [
    "def likelihood(c,r,n):\n",
    "    return mu_likelihood(n,mu(c,r))"
   ]
  },
  {
   "cell_type": "markdown",
   "metadata": {},
   "source": [
    "## Gradients\n",
    "\n",
    "In order to perform gradient descent, we must compute the scores of the likelihood. It is easier to compute the derivatives with respect of $\\mu$ and backpropagate afterwards.\n",
    "\n",
    "**Score with respect of the station-pair weights**\n",
    "\n",
    "\\begin{equation}\n",
    "    \\frac{d L}{d \\mu_{s[i],s[j],h[t]}} = \\frac{n_{s[i],s[j],h[t]}}{  \\mu_{s[i],s[j],h[t]}} -1\n",
    "\\end{equation}\n",
    "\n",
    "or, in Python:"
   ]
  },
  {
   "cell_type": "code",
   "execution_count": 5,
   "metadata": {},
   "outputs": [],
   "source": [
    "def mu_score(n,mu):\n",
    "    return n/mu-1"
   ]
  },
  {
   "cell_type": "markdown",
   "metadata": {},
   "source": [
    "Now we can start to propagate to the parameters of interest.\n",
    "\n",
    "**Score with respect to $R^{r[\\alpha],r[\\beta]}_{h[t]}$:**\n",
    "\n",
    "\\begin{equation}\n",
    "    \\frac{d \\mu_{s[i],s[j],h[t]}}{d R^{r[\\alpha],r[\\beta]}_{h[t]}} =  C_{s[i],r[\\alpha]} C_{s[j],r[\\beta]}\n",
    "\\end{equation}\n",
    "\n",
    "\\begin{equation}\n",
    "    \\frac{d L}{d R^{r[\\alpha],r[\\beta]}_{h[t]}} = \n",
    "        \\sum_{s[i],s[j]} \n",
    "            \\left(\\frac{n_{s[i],s[j],h[t]}}{  \\mu_{s[i],s[j],h[t]}} -1\\right) \n",
    "            C_{s[i],r[\\alpha]} C_{s[j],r[\\beta]}\n",
    "\\end{equation}\n",
    "\n",
    "note that the result is essentially a tensor multiplication including the score with respect of $\\mu_{s[i],s[j],h[t]}$. Since we have already defined that score, we can use it, but we can save computation time by choosing whether we have it precomputed or not. In Python:"
   ]
  },
  {
   "cell_type": "code",
   "execution_count": 6,
   "metadata": {},
   "outputs": [],
   "source": [
    "def r_score(c,r,n=None,back=None):\n",
    "    if back is None and n is None:\n",
    "        raise TypeError(\"Either n or the backprop should be specified\")\n",
    "    if back is None:\n",
    "        back = mu_score(n,mu(c,r))\n",
    "    return np.einsum(\"ijt,ia,jb->abt\",back,c,c)"
   ]
  },
  {
   "cell_type": "markdown",
   "metadata": {},
   "source": [
    "**Score with respect to** $ C_{s[i],r[\\gamma]}$:\n",
    "\n",
    "\\begin{equation}\\begin{aligned}\n",
    "    \\frac{d \\mu_{s[i],s[j],h[t]}}{d C_{s[k],r[\\gamma]}} =&\n",
    "        \\delta_{s[i],s[k]} \n",
    "        \\sum_{ r[\\beta]}\n",
    "            R^{r[\\gamma],r[\\beta]}_{h[t]}C_{s[j],r[\\beta]} \n",
    "        \\\\&+\n",
    "        \\delta_{s[j],s[k]}\n",
    "        \\sum_{r[\\alpha]}\n",
    "            C_{s[i],r[\\alpha]}R^{r[\\alpha],r[\\gamma]}_{h[t]}\n",
    "\\end{aligned}\\end{equation}\n",
    "\n",
    "\\begin{equation}\\begin{aligned}\n",
    "    \\frac{d L}{d C_{s[k],r[\\gamma]}} =&\n",
    "        \\sum_{s[j],r[\\beta]} \n",
    "        \\left(\\frac{n_{s[k],s[j],h[t]}}{  \\mu_{s[k],s[j],h[t]}} -1\\right) \n",
    "                R^{r[\\gamma],r[\\beta]}_{h[t]}C_{s[j],r[\\beta]} \n",
    "            \\\\&+\n",
    "        \\sum_{s[i],r[\\alpha]} \n",
    "        \\left(\\frac{n_{s[i],s[k],h[t]}}{  \\mu_{s[i],s[k],h[t]}} -1\\right) \n",
    "                R^{r[\\alpha],r[\\gamma]}_{h[t]}C_{s[i],r[\\alpha]}\n",
    "\\end{aligned}\\end{equation}\n",
    "\n",
    "the same considerations we described for the $R^{r[\\alpha],r[\\beta]}_{h[t]}$ case apply here. In Python:"
   ]
  },
  {
   "cell_type": "code",
   "execution_count": 7,
   "metadata": {},
   "outputs": [],
   "source": [
    "def c_score(c,r,n=None,back=None):\n",
    "    if back is None and n is None:\n",
    "        raise TypeError(\"Either n or the backprop should be specified\")\n",
    "    if back is None:\n",
    "        back = mu_score(n,mu(c,r))\n",
    "    return np.einsum(\"kjt,gbt,jb->kg\",back,r,c) + \\\n",
    "           np.einsum(\"ikt,agt,ia->kg\",back,r,c)"
   ]
  },
  {
   "cell_type": "markdown",
   "metadata": {},
   "source": [
    "# Optimization: \n",
    "\n",
    "## Log-Gradient descent algorithm\n",
    "\n",
    "We use the log-gradient descent algorithm to overcome the numerical instabilities near $\\mu_{s[i]s[j]}=0$. The idea is the following: We are given a function $f(x)$, $x\\in{R^+}^{n}$ (positive $n$-tuples) which is unstable when any of the coefficients is $0$. Then we define $g = f \\circ \\exp$ a new function of a variable $y \\in R^n$. We then perform gradient descent to $y$ to optimize, and then compute $x = \\exp y$. This is done as:\n",
    "\n",
    "$$\n",
    "y_{n+1} = y_n + \\alpha g'(y_n) = y_n + \\alpha \\nabla f(\\exp(y_n)) \\exp(y_n)\n",
    "$$\n",
    "\n",
    "(where all the operations, products, sums, exponentials.. are performed componentwise) now, using the fact that $x_n = \\exp y_n$ we can translate this algorithm back to the $x_n$, as in:\n",
    "\n",
    "$$\n",
    "x_{n+1} = x_n \\cdot \\exp(\\alpha x_n \\nabla f(x_n))\n",
    "$$\n",
    "\n",
    "note that the new algorithm cannot create negative numbers! The algorithm, however, can become slow for small $x$. An option to overcome that is to remove the $x_n$ factor on the exponential, which prevents slow convergence near $0$, while still keeping the stability properties. More generally, this gives rise to a whole family of algorithms, inspired by gradient descent with change of variables, of the form $x_{n+1} = x_n h(\\nabla x_n)$, where $h$ is a positive function with $f(0) = 1$. We will call this function the _exp_ function, but it may not be the exponential itself.\n",
    "\n",
    "## Doubly adaptive gradient descent\n",
    "\n",
    "Since we do not know a priori which is the good constant to perform gradient descent with, we will choose it addapteively. This, however, leads to a problem. We have two very diferent sets of coordinates, the $C_{s[k],r[\\gamma]}$ and the $ R^{r[\\gamma],r[\\beta]}_{h[t]}$. We will perform gradient descent to each of the variables sepparately, one at a time, and choose different gradient descent constants for each of them. The gradient descent constants are updated at each step by comparing two different possible values for them.\n",
    "\n",
    "The algorithm above, in its simplest implementation, can be written as:"
   ]
  },
  {
   "cell_type": "code",
   "execution_count": 8,
   "metadata": {},
   "outputs": [],
   "source": [
    "def gradient_descent(n, #N, the real amount of trips\n",
    "                   r0,c0, #The initial guesses\n",
    "                   wr=1E-10, wc=1E-10, #Initial weights\n",
    "                   N_ITERS=2500, \n",
    "                   exp = np.exp): #the \"exponential\" function\n",
    "    #To keep track of whether we improve or not, \n",
    "    #we need to keep the initial likelihood\n",
    "    old_likelihood=likelihood(c0,r0,n);\n",
    "                     \n",
    "    for i in range(N_ITERS):\n",
    "        #Perform addaptive gradient descent to  R\n",
    "        #=========================================\n",
    "        rs = r_score(c0,r0,n) \n",
    "                 \n",
    "        #Try two different weights, one smaller (wr*0.8) one bigger (wr*1.2)\n",
    "        r1 = r0*exp(0.8*wr*rs);    r2 = r0*exp(1.2*wr*rs)\n",
    "        l1 = likelihood(c0,r1,n);   l2 = likelihood(c0,r2,n)\n",
    "\n",
    "        #choose (and keep) the best weight\n",
    "        if l1>l2: r0=r1;  wr*=0.8;  l=l1;\n",
    "        else:     r0=r2;  wr*=1.2;  l=l2;\n",
    "        \n",
    "        #Perform addaptive gradient descent to  C\n",
    "        #=========================================\n",
    "        #Copy of the code above\n",
    "        cs = c_score(c0,r0,n)\n",
    "                 \n",
    "        c1 = c0*exp(down*wc*cs);          c2 = c0*exp(up*wc*cs)\n",
    "        l1 = likelihood(c1,r0,n);     l2 = likelihood(c2,r0,n)\n",
    " \n",
    "        if l1>l2:  c0=c1;  wc*=down;  l=l1;\n",
    "        else:      c0=c2;  wc*=up;  l=l2;\n",
    "                     \n",
    "    return r0,c0"
   ]
  },
  {
   "cell_type": "markdown",
   "metadata": {},
   "source": [
    "While the code above expresses the idea properly and shortly, it misses some useful components (such as logging, a progress bar...) Therefore we will use the prepared library code that essentially does the same to show the results. The main differences are:\n",
    "\n",
    "* There is a safeguard preventing the weights from being negative (or less than $10^{-20}$). \n",
    "* There is logging\n",
    "* The initial values for $C$ and $R$ are automatically generated from lognormal distributions with the right mean if no value is supplied.\n",
    "* The values of $R$ and $C$ are normalised to take into account the degeneracy of solutions given by the simmetry:\n",
    "\n",
    "\n",
    "$$(C_{s[k],r[\\gamma]},R^{r[\\alpha],r[\\beta]}_{h[t]}C_{s[j],r[\\beta]} ) \\mapsto \\lambda_{r[\\gamma]} C_{s[k],r[\\gamma]}, \\lambda^{-1}_{r[\\alpha]}  \\lambda^{-1}_{r[\\beta]} R^{r[\\gamma],r[\\beta]}_{h[t]} )$$"
   ]
  },
  {
   "cell_type": "code",
   "execution_count": 9,
   "metadata": {},
   "outputs": [],
   "source": [
    "#the actual implementation of gradient desce t in the paper\n",
    "#the one shown above is a version of the one in the library\n",
    "#with multiple lines removed\n",
    "from lib.gradient_mixed import gradient_descent\n",
    "\n",
    "#This makes the role matrix plots from the paper\n",
    "from lib.Matrix_plot import Matrix_plot "
   ]
  },
  {
   "cell_type": "markdown",
   "metadata": {},
   "source": [
    "# Testing the code:\n",
    "\n",
    "## Testing in Bike Sharing data\n",
    "\n",
    "Now that the code is ready, we can test it on the data from the bike network"
   ]
  },
  {
   "cell_type": "code",
   "execution_count": 10,
   "metadata": {},
   "outputs": [],
   "source": [
    "city = 'LA'"
   ]
  },
  {
   "cell_type": "code",
   "execution_count": 11,
   "metadata": {},
   "outputs": [],
   "source": [
    "with open('Tripbins/%s.json'%city) as f:\n",
    "    trips = np.array(json.load(f))\n",
    "trips = trips.transpose(1,2,0) #move the time to the end as expected by the gradient descend function"
   ]
  },
  {
   "cell_type": "code",
   "execution_count": 12,
   "metadata": {},
   "outputs": [
    {
     "data": {
      "application/vnd.jupyter.widget-view+json": {
       "model_id": "d3f20a47cd18475c90074b57421b24c1",
       "version_major": 2,
       "version_minor": 0
      },
      "text/plain": [
       "FloatProgress(value=0.0, max=601.0)"
      ]
     },
     "metadata": {},
     "output_type": "display_data"
    },
    {
     "name": "stdout",
     "output_type": "stream",
     "text": [
      "N: \t C_RelChange \t R_RelChange \t log_like \t d_log_like \t time(s)\n",
      "0\t 4.225e-01\t 5.498e-01\t -3.563e+06\t 9.816e+06\t 0.11\n",
      "100\t 9.242e-03\t 1.844e-02\t -1.814e+04\t 1.491e+00\t 9.60\n",
      "200\t 1.880e-02\t 1.866e-02\t -1.792e+04\t -5.751e-01\t 18.86\n",
      "300\t 5.242e-04\t 1.510e-03\t -1.790e+04\t 7.639e-02\t 28.90\n",
      "400\t 2.145e-03\t 1.743e-03\t -1.790e+04\t 2.990e-02\t 38.69\n",
      "500\t 1.055e-04\t 2.277e-04\t -1.790e+04\t 2.053e-04\t 48.32\n",
      "600\t 4.344e-05\t 8.631e-05\t -1.790e+04\t 4.481e-04\t 57.41\n"
     ]
    }
   ],
   "source": [
    "x = \\\n",
    "gradient_descent(trips, exp = lambda x: (1+x**2)**.5+x,\n",
    "                 N=601,nroles=3,\n",
    "                 verbose_time = 100, progressBar=True)"
   ]
  },
  {
   "cell_type": "code",
   "execution_count": 13,
   "metadata": {},
   "outputs": [
    {
     "data": {
      "text/plain": [
       "<Figure size 432x288 with 0 Axes>"
      ]
     },
     "execution_count": 13,
     "metadata": {},
     "output_type": "execute_result"
    },
    {
     "data": {
      "image/png": "[encoded data removed]",
      "text/plain": [
       "<Figure size 288x288 with 9 Axes>"
      ]
     },
     "metadata": {},
     "output_type": "display_data"
    },
    {
     "data": {
      "text/plain": [
       "<Figure size 432x288 with 0 Axes>"
      ]
     },
     "metadata": {},
     "output_type": "display_data"
    }
   ],
   "source": [
    "r,c,_,_=x\n",
    "(fig,ax)=Matrix_plot(r, [\"Home\",\"Work\", \"Noise1\", \"Noise2\"] );\n",
    "fig.set_size_inches(4,4)\n",
    "fig.suptitle('Role descriptions\\n {}'.format(city))\n",
    "plt.figure()"
   ]
  },
  {
   "cell_type": "markdown",
   "metadata": {},
   "source": [
    "## Testing in Artifficially generated data\n",
    "\n",
    "### Generating data\n",
    "\n",
    "We can also try some artifficially generated examples to see that the code works. We will start by generating data that is similar to the one in the datasets (moderately sparse, concentrated in the middle of the day..). We will use a random product of sines and cosines, of time for each compoent, for no particular reason."
   ]
  },
  {
   "cell_type": "code",
   "execution_count": 14,
   "metadata": {},
   "outputs": [],
   "source": [
    "t = np.linspace(0,1,24)\n",
    "z = np.zeros((3,3,24))\n",
    "for i in range(3):\n",
    "    for j in range(3):\n",
    "        z[i,j] = np.sin(8*(i+1)*t+10*np.random.normal())*\\\n",
    "                 np.sin(1*(j+1)*t+10*np.random.normal())*\\\n",
    "                 np.cos(2*(i-j)*t+10*np.random.normal())*np.random.normal()\\\n",
    "                 +1E-1\n",
    "z = z*(z>0)\n",
    "z*=(0.2-np.cos(6.28*t))\n",
    "z = z*(z>0)\n",
    "z/=np.mean(z)"
   ]
  },
  {
   "cell_type": "markdown",
   "metadata": {},
   "source": [
    "We can plot the randomly generated data:"
   ]
  },
  {
   "cell_type": "code",
   "execution_count": 15,
   "metadata": {},
   "outputs": [
    {
     "data": {
      "image/png": "[encoded data removed]",
      "text/plain": [
       "<Figure size 288x288 with 9 Axes>"
      ]
     },
     "metadata": {},
     "output_type": "display_data"
    }
   ],
   "source": [
    "(fig,ax)=Matrix_plot(z,['A','B','C'])\n",
    "fig.set_size_inches(4,4)\n",
    "fig.suptitle('Role descriptions\\n {}'.format('Randomly generated Data'));"
   ]
  },
  {
   "cell_type": "markdown",
   "metadata": {},
   "source": [
    "We only have to generate the weight constants for the stations (we will generate them from exponential variables, but other tests could be made), and generate a poisson random variable for the stations from here."
   ]
  },
  {
   "cell_type": "code",
   "execution_count": 16,
   "metadata": {},
   "outputs": [],
   "source": [
    "n_stations = 40\n",
    "mean_trips_per_pair_per_hour = 1\n",
    "st = np.random.exponential(size = (n_stations,3))\n",
    "\n",
    "expected_trips = np.einsum(('ij,jkt,lk->ilt'), st, z, st)\n",
    "expected_trips*= mean_trips_per_pair_per_hour/np.mean(expected_trips)\n",
    "trips = np.random.poisson(expected_trips)"
   ]
  },
  {
   "cell_type": "markdown",
   "metadata": {},
   "source": [
    "### Testing on the data\n",
    "\n",
    "Having a tensor of trips (the $ n_{s[i],s[j],h[t]}$ tensor), we can run the algorithm we just designed:"
   ]
  },
  {
   "cell_type": "code",
   "execution_count": 17,
   "metadata": {},
   "outputs": [
    {
     "data": {
      "application/vnd.jupyter.widget-view+json": {
       "model_id": "a879b4c5372e4067a38cbb75869f3bc7",
       "version_major": 2,
       "version_minor": 0
      },
      "text/plain": [
       "FloatProgress(value=0.0, max=601.0)"
      ]
     },
     "metadata": {},
     "output_type": "display_data"
    },
    {
     "name": "stdout",
     "output_type": "stream",
     "text": [
      "N: \t C_RelChange \t R_RelChange \t log_like \t d_log_like \t time(s)\n",
      "0\t 2.578e-01\t 9.938e-02\t -7.990e+05\t 5.502e+05\t 0.02\n",
      "100\t 3.946e-03\t 4.514e-03\t 1.453e+04\t 6.850e-01\t 1.56\n",
      "200\t 6.168e-04\t 2.036e-03\t 1.455e+04\t 9.374e-02\t 3.09\n",
      "300\t 4.425e-04\t 1.672e-03\t 1.456e+04\t 1.256e-02\t 4.64\n",
      "400\t 2.591e-04\t 3.780e-04\t 1.456e+04\t 5.875e-04\t 6.15\n",
      "500\t 6.404e-05\t 1.727e-04\t 1.456e+04\t 4.129e-04\t 7.70\n",
      "600\t 8.935e-05\t 3.039e-04\t 1.456e+04\t 1.144e-03\t 9.30\n"
     ]
    }
   ],
   "source": [
    "x = \\\n",
    "gradient_descent(trips+1E-4, exp = lambda x: (1+x**2)**.5+x,\n",
    "                N=601,nroles=3,\n",
    "                verbose_time = 100, progressBar=True)"
   ]
  },
  {
   "cell_type": "markdown",
   "metadata": {},
   "source": [
    "And if we plot the results (note that the will most likely be shuffled):"
   ]
  },
  {
   "cell_type": "code",
   "execution_count": 18,
   "metadata": {},
   "outputs": [
    {
     "data": {
      "text/plain": [
       "Text(0.5, 0.98, 'Role descriptions\\n Recovery of the generated data')"
      ]
     },
     "execution_count": 18,
     "metadata": {},
     "output_type": "execute_result"
    },
    {
     "data": {
      "image/png": "[encoded data removed]",
      "text/plain": [
       "<Figure size 288x288 with 9 Axes>"
      ]
     },
     "metadata": {},
     "output_type": "display_data"
    }
   ],
   "source": [
    "r,c,_,_=x\n",
    "(fig,ax)=Matrix_plot(r, [\"A\",\"B\", \"C\"] );\n",
    "fig.set_size_inches(4,4)\n",
    "fig.suptitle('Role descriptions\\n {}'.format('Recovery of the generated data'))"
   ]
  }
 ],
 "metadata": {
  "kernelspec": {
   "display_name": "Python 3",
   "language": "python",
   "name": "python3"
  },
  "language_info": {
   "codemirror_mode": {
    "name": "ipython",
    "version": 3
   },
   "file_extension": ".py",
   "mimetype": "text/x-python",
   "name": "python",
   "nbconvert_exporter": "python",
   "pygments_lexer": "ipython3",
   "version": "3.6.4"
  }
 },
 "nbformat": 4,
 "nbformat_minor": 2
}
